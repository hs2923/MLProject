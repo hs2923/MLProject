{
 "cells": [
  {
   "cell_type": "code",
   "execution_count": 159,
   "metadata": {
    "collapsed": true
   },
   "outputs": [],
   "source": [
    "# Import libraries\n",
    "import tensorflow as tf\n",
    "import numpy as np\n",
    "import matplotlib.pyplot as plt\n",
    "%matplotlib inline\n",
    "import aux_functions as aux"
   ]
  },
  {
   "cell_type": "code",
   "execution_count": 161,
   "metadata": {
    "collapsed": true
   },
   "outputs": [],
   "source": [
    "def network(x):\n",
    "    # Input Layer\n",
    "    input_layer = tf.reshape(train_data, [-1, 28, 28, 1])\n",
    "\n",
    "    # Convolutional Layer #1\n",
    "    conv1 = tf.layers.conv2d(\n",
    "        inputs=input_layer,\n",
    "        filters = 5,\n",
    "        kernel_size=[5, 5],\n",
    "        padding=\"same\",\n",
    "        activation=tf.nn.relu)\n",
    "\n",
    "    # Pooling Layer #1\n",
    "    pool1 = tf.layers.max_pooling2d(inputs=conv1, pool_size=[2, 2], strides=2)\n",
    "\n",
    "    # Convolutional Layer #2 and Pooling Layer #2\n",
    "    conv2 = tf.layers.conv2d(\n",
    "        inputs=pool1,\n",
    "        filters=64,\n",
    "        kernel_size=[5, 5],\n",
    "        padding=\"same\",\n",
    "        activation=tf.nn.relu)\n",
    "\n",
    "    # Pooling layer #2\n",
    "    pool2 = tf.layers.max_pooling2d(inputs=conv2, pool_size=[2, 2], strides=2)\n",
    "\n",
    "    # Dense Layer\n",
    "    pool2_flat = tf.reshape(pool2, [-1, 7 * 7 * 64])\n",
    "    dense = tf.layers.dense(inputs=pool2_flat, units=1024, activation=tf.nn.relu)\n",
    "    dropout = tf.layers.dropout(\n",
    "        inputs=dense, rate=0.4, training = True)#mode == tf.estimator.ModeKeys.TRAIN)\n",
    "\n",
    "    # Logits Layer\n",
    "    logits = tf.layers.dense(inputs=dropout, units=10)\n",
    "    \n",
    "    \n",
    "    return logits, conv1"
   ]
  },
  {
   "cell_type": "code",
   "execution_count": 162,
   "metadata": {
    "collapsed": true
   },
   "outputs": [],
   "source": [
    "def compute_cross_entropy(logits, y):\n",
    "    y_pred = tf.nn.softmax(logits, name='y_pred') # the predicted probability for each example.\n",
    "\n",
    "    # Compute the average cross-entropy across all the examples.\n",
    "    cross_entropy = tf.reduce_mean(-tf.reduce_sum(y * tf.log(y_pred), axis=[1]))\n",
    "    return cross_entropy\n",
    "\n",
    "def compute_accuracy(logits, y):\n",
    "    prediction = tf.argmax(logits, 1, name='pred_class')\n",
    "    true_label = tf.argmax(y, 1, name='true_class')\n",
    "    accuracy = tf.reduce_mean(tf.cast(tf.equal(prediction, true_label), tf.float32))\n",
    "    return accuracy"
   ]
  },
  {
   "cell_type": "code",
   "execution_count": 163,
   "metadata": {
    "collapsed": true
   },
   "outputs": [],
   "source": [
    "def deconvolute(layer):\n",
    "    unConv1 = tf.layers.conv2d_transpose( \n",
    "        inputs = layer, \n",
    "        filters = 5, \n",
    "        kernel_size=[5, 5], \n",
    "        padding = \"SAME\")\n",
    "    \n",
    "    return unConv1"
   ]
  },
  {
   "cell_type": "code",
   "execution_count": 145,
   "metadata": {},
   "outputs": [
    {
     "name": "stdout",
     "output_type": "stream",
     "text": [
      "Extracting MNIST-data\\train-images-idx3-ubyte.gz\n",
      "Extracting MNIST-data\\train-labels-idx1-ubyte.gz\n",
      "Extracting MNIST-data\\t10k-images-idx3-ubyte.gz\n",
      "Extracting MNIST-data\\t10k-labels-idx1-ubyte.gz\n",
      "\n",
      "MNIST Data Dimensions\n",
      "train_data\n",
      "(50, 784)\n",
      "train_labels\n",
      "(50,)\n",
      "eval\n",
      "(10, 784)\n",
      "eval_labels\n",
      "(10,)\n"
     ]
    }
   ],
   "source": [
    "# Load training and eval data\n",
    "mnist = tf.contrib.learn.datasets.load_dataset(\"mnist\")\n",
    "train_data = mnist.train.images[:50,] # Returns np.array\n",
    "train_labels = np.asarray(mnist.train.labels[:50], dtype=np.int32)\n",
    "eval_data = mnist.test.images[:10,] # Returns np.array\n",
    "eval_labels = np.asarray(mnist.test.labels[:10], dtype=np.int32)\n",
    "\n",
    "print(\"\")\n",
    "print(\"MNIST Data Dimensions\")\n",
    "print(\"train_data\")\n",
    "print(train_data.shape)\n",
    "print(\"train_labels\")\n",
    "print(train_labels.shape)\n",
    "print(\"eval\")\n",
    "print(eval_data.shape)\n",
    "print(\"eval_labels\")\n",
    "print(eval_labels.shape)"
   ]
  },
  {
   "cell_type": "code",
   "execution_count": 166,
   "metadata": {},
   "outputs": [
    {
     "name": "stdout",
     "output_type": "stream",
     "text": [
      "Step 1: accuracy is 0.14000000059604645\n",
      "Step 11: accuracy is 0.8600000143051147\n",
      "Step 21: accuracy is 1.0\n",
      "Step 31: accuracy is 1.0\n"
     ]
    }
   ],
   "source": [
    "##\n",
    "## Train CNN\n",
    "##\n",
    "\n",
    "with tf.Graph().as_default():\n",
    "    # We build the model here as before\n",
    "    x = tf.placeholder(tf.float32, [None, 784], name='x')\n",
    "    y = tf.placeholder(tf.float32, [None, 10], name='y')\n",
    "    \n",
    "    logits, conv1 = network(x)\n",
    "    loss = compute_cross_entropy(logits = logits, y = y)\n",
    "    accuracy = compute_accuracy(logits, y)\n",
    "    \n",
    "    onehot_train_labels = tf.one_hot(indices = tf.cast(train_labels, tf.int32), depth = 10)\n",
    "    onehot_eval_labels = tf.one_hot(indices = tf.cast(eval_labels, tf.int32), depth = 10)\n",
    "    \n",
    "    opt = tf.train.AdamOptimizer(0.01)\n",
    "    train_step = opt.minimize(loss)\n",
    "    \n",
    "    #Deconvolute\n",
    "    unConv1 = deconvolute(conv1)\n",
    "    \n",
    "    # Let's put the summaries below\n",
    "    \n",
    "    # create summary for loss and accuracy\n",
    "    tf.summary.scalar('loss', loss) \n",
    "    tf.summary.scalar('accuracy', accuracy)\n",
    "    \n",
    "    # create summary for logits\n",
    "    tf.summary.histogram('logits', logits)\n",
    "    \n",
    "    # create summary for input image\n",
    "    tf.summary.image('input', tf.reshape(x, [-1, 28, 28, 1]))\n",
    "    \n",
    "    summary_op = tf.summary.merge_all()\n",
    "    \n",
    "    with tf.Session() as sess:\n",
    "        summary_writer = tf.summary.FileWriter('logs/example1', sess.graph)\n",
    "        \n",
    "        sess.run(tf.global_variables_initializer())\n",
    "\n",
    "        lab_train = sess.run(onehot_train_labels)\n",
    "        lab_eval = sess.run(onehot_eval_labels)\n",
    "        \n",
    "        for i in range(31):\n",
    "            _, ac, summary = sess.run((train_step, accuracy, summary_op),\n",
    "                                      feed_dict={x: train_data, y: lab_train})\n",
    "            \n",
    "            # write the summary output to file\n",
    "            summary_writer.add_summary(summary, i)\n",
    "\n",
    "            if i % 10 == 0:\n",
    "                print('Step {0}: accuracy is {1}'.format(i + 1, ac))\n",
    "    \n",
    "        w = sess.run(unConv1)\n",
    "        #ac = sess.run(accuracy, feed_dict={x: eval_data, y: lab_eval})\n",
    "        #print('Accuracy on test set: {0}'.format(ac))"
   ]
  },
  {
   "cell_type": "code",
   "execution_count": 171,
   "metadata": {},
   "outputs": [
    {
     "name": "stdout",
     "output_type": "stream",
     "text": [
      "(50, 28, 28, 5)\n",
      "[-0.08825822 -0.4269197  -1.35903203 -1.77436566 -2.30783534 -0.71149409\n",
      "  0.50112885  0.27033526 -1.24596632 -1.73115003 -1.07828832 -0.24270964\n",
      "  0.48722535 -0.71931022 -1.78372979 -1.22266042 -0.56201893  0.27340263\n",
      " -0.92770219  0.16941603  1.39464986  1.15155005  0.55716205  0.54184353\n",
      "  0.41318133  0.03183563  0.          0.        ]\n"
     ]
    },
    {
     "data": {
      "image/png": "[encoded data removed]",
      "text/plain": [
       "<matplotlib.figure.Figure at 0x1e8001b7b70>"
      ]
     },
     "metadata": {},
     "output_type": "display_data"
    }
   ],
   "source": [
    "print(w.shape)\n",
    "print(sum(w[1,:,:,1]))\n",
    "\n",
    "plt.imshow(np.array(w[5,:,:,2]), cmap='gray')\n",
    "plt.show()"
   ]
  },
  {
   "cell_type": "code",
   "execution_count": null,
   "metadata": {},
   "outputs": [],
   "source": []
  },
  {
   "cell_type": "code",
   "execution_count": null,
   "metadata": {
    "collapsed": true
   },
   "outputs": [],
   "source": []
  },
  {
   "cell_type": "code",
   "execution_count": null,
   "metadata": {
    "collapsed": true
   },
   "outputs": [],
   "source": []
  }
 ],
 "metadata": {
  "kernelspec": {
   "display_name": "Python 3",
   "language": "python",
   "name": "python3"
  },
  "language_info": {
   "codemirror_mode": {
    "name": "ipython",
    "version": 3
   },
   "file_extension": ".py",
   "mimetype": "text/x-python",
   "name": "python",
   "nbconvert_exporter": "python",
   "pygments_lexer": "ipython3",
   "version": "3.6.3"
  }
 },
 "nbformat": 4,
 "nbformat_minor": 2
}
